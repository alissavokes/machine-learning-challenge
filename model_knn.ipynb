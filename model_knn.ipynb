{
 "cells": [
  {
   "cell_type": "code",
   "execution_count": null,
   "metadata": {},
   "outputs": [],
   "source": [
    "# Update sklearn to prevent version mismatches\n",
    "!pip install sklearn --upgrade"
   ]
  },
  {
   "cell_type": "code",
   "execution_count": null,
   "metadata": {},
   "outputs": [],
   "source": [
    "# install joblib. This will be used to save your model. \n",
    "# Restart your kernel after installing \n",
    "!pip install joblib"
   ]
  },
  {
   "cell_type": "code",
   "execution_count": 1,
   "metadata": {},
   "outputs": [],
   "source": [
    "import pandas as pd\n",
    "import matplotlib.pyplot as plt\n",
    "from sklearn.model_selection import train_test_split as tts\n",
    "from sklearn.neighbors import KNeighborsClassifier\n",
    "from sklearn.feature_selection import VarianceThreshold\n",
    "from tensorflow.keras.utils import to_categorical\n",
    "from sklearn.preprocessing import LabelEncoder, MinMaxScaler, StandardScaler\n",
    "from sklearn.model_selection import GridSearchCV\n",
    "# if joblib fails to import, try running the command to install in terminal/git-bash\n",
    "import joblib"
   ]
  },
  {
   "cell_type": "markdown",
   "metadata": {},
   "source": [
    "# Read the CSV and Perform Basic Data Cleaning"
   ]
  },
  {
   "cell_type": "code",
   "execution_count": 2,
   "metadata": {},
   "outputs": [
    {
     "data": {
      "text/html": [
       "<div>\n",
       "<style scoped>\n",
       "    .dataframe tbody tr th:only-of-type {\n",
       "        vertical-align: middle;\n",
       "    }\n",
       "\n",
       "    .dataframe tbody tr th {\n",
       "        vertical-align: top;\n",
       "    }\n",
       "\n",
       "    .dataframe thead th {\n",
       "        text-align: right;\n",
       "    }\n",
       "</style>\n",
       "<table border=\"1\" class=\"dataframe\">\n",
       "  <thead>\n",
       "    <tr style=\"text-align: right;\">\n",
       "      <th></th>\n",
       "      <th>koi_disposition</th>\n",
       "      <th>koi_fpflag_nt</th>\n",
       "      <th>koi_fpflag_ss</th>\n",
       "      <th>koi_fpflag_co</th>\n",
       "      <th>koi_fpflag_ec</th>\n",
       "      <th>koi_period</th>\n",
       "      <th>koi_period_err1</th>\n",
       "      <th>koi_period_err2</th>\n",
       "      <th>koi_time0bk</th>\n",
       "      <th>koi_time0bk_err1</th>\n",
       "      <th>...</th>\n",
       "      <th>koi_steff_err2</th>\n",
       "      <th>koi_slogg</th>\n",
       "      <th>koi_slogg_err1</th>\n",
       "      <th>koi_slogg_err2</th>\n",
       "      <th>koi_srad</th>\n",
       "      <th>koi_srad_err1</th>\n",
       "      <th>koi_srad_err2</th>\n",
       "      <th>ra</th>\n",
       "      <th>dec</th>\n",
       "      <th>koi_kepmag</th>\n",
       "    </tr>\n",
       "  </thead>\n",
       "  <tbody>\n",
       "    <tr>\n",
       "      <th>0</th>\n",
       "      <td>CONFIRMED</td>\n",
       "      <td>0</td>\n",
       "      <td>0</td>\n",
       "      <td>0</td>\n",
       "      <td>0</td>\n",
       "      <td>54.418383</td>\n",
       "      <td>2.479000e-04</td>\n",
       "      <td>-2.479000e-04</td>\n",
       "      <td>162.513840</td>\n",
       "      <td>0.003520</td>\n",
       "      <td>...</td>\n",
       "      <td>-81</td>\n",
       "      <td>4.467</td>\n",
       "      <td>0.064</td>\n",
       "      <td>-0.096</td>\n",
       "      <td>0.927</td>\n",
       "      <td>0.105</td>\n",
       "      <td>-0.061</td>\n",
       "      <td>291.93423</td>\n",
       "      <td>48.141651</td>\n",
       "      <td>15.347</td>\n",
       "    </tr>\n",
       "    <tr>\n",
       "      <th>1</th>\n",
       "      <td>FALSE POSITIVE</td>\n",
       "      <td>0</td>\n",
       "      <td>1</td>\n",
       "      <td>0</td>\n",
       "      <td>0</td>\n",
       "      <td>19.899140</td>\n",
       "      <td>1.490000e-05</td>\n",
       "      <td>-1.490000e-05</td>\n",
       "      <td>175.850252</td>\n",
       "      <td>0.000581</td>\n",
       "      <td>...</td>\n",
       "      <td>-176</td>\n",
       "      <td>4.544</td>\n",
       "      <td>0.044</td>\n",
       "      <td>-0.176</td>\n",
       "      <td>0.868</td>\n",
       "      <td>0.233</td>\n",
       "      <td>-0.078</td>\n",
       "      <td>297.00482</td>\n",
       "      <td>48.134129</td>\n",
       "      <td>15.436</td>\n",
       "    </tr>\n",
       "    <tr>\n",
       "      <th>2</th>\n",
       "      <td>FALSE POSITIVE</td>\n",
       "      <td>0</td>\n",
       "      <td>1</td>\n",
       "      <td>0</td>\n",
       "      <td>0</td>\n",
       "      <td>1.736952</td>\n",
       "      <td>2.630000e-07</td>\n",
       "      <td>-2.630000e-07</td>\n",
       "      <td>170.307565</td>\n",
       "      <td>0.000115</td>\n",
       "      <td>...</td>\n",
       "      <td>-174</td>\n",
       "      <td>4.564</td>\n",
       "      <td>0.053</td>\n",
       "      <td>-0.168</td>\n",
       "      <td>0.791</td>\n",
       "      <td>0.201</td>\n",
       "      <td>-0.067</td>\n",
       "      <td>285.53461</td>\n",
       "      <td>48.285210</td>\n",
       "      <td>15.597</td>\n",
       "    </tr>\n",
       "    <tr>\n",
       "      <th>3</th>\n",
       "      <td>CONFIRMED</td>\n",
       "      <td>0</td>\n",
       "      <td>0</td>\n",
       "      <td>0</td>\n",
       "      <td>0</td>\n",
       "      <td>2.525592</td>\n",
       "      <td>3.760000e-06</td>\n",
       "      <td>-3.760000e-06</td>\n",
       "      <td>171.595550</td>\n",
       "      <td>0.001130</td>\n",
       "      <td>...</td>\n",
       "      <td>-211</td>\n",
       "      <td>4.438</td>\n",
       "      <td>0.070</td>\n",
       "      <td>-0.210</td>\n",
       "      <td>1.046</td>\n",
       "      <td>0.334</td>\n",
       "      <td>-0.133</td>\n",
       "      <td>288.75488</td>\n",
       "      <td>48.226200</td>\n",
       "      <td>15.509</td>\n",
       "    </tr>\n",
       "    <tr>\n",
       "      <th>4</th>\n",
       "      <td>CONFIRMED</td>\n",
       "      <td>0</td>\n",
       "      <td>0</td>\n",
       "      <td>0</td>\n",
       "      <td>0</td>\n",
       "      <td>4.134435</td>\n",
       "      <td>1.050000e-05</td>\n",
       "      <td>-1.050000e-05</td>\n",
       "      <td>172.979370</td>\n",
       "      <td>0.001900</td>\n",
       "      <td>...</td>\n",
       "      <td>-232</td>\n",
       "      <td>4.486</td>\n",
       "      <td>0.054</td>\n",
       "      <td>-0.229</td>\n",
       "      <td>0.972</td>\n",
       "      <td>0.315</td>\n",
       "      <td>-0.105</td>\n",
       "      <td>296.28613</td>\n",
       "      <td>48.224670</td>\n",
       "      <td>15.714</td>\n",
       "    </tr>\n",
       "  </tbody>\n",
       "</table>\n",
       "<p>5 rows × 41 columns</p>\n",
       "</div>"
      ],
      "text/plain": [
       "  koi_disposition  koi_fpflag_nt  koi_fpflag_ss  koi_fpflag_co  koi_fpflag_ec  \\\n",
       "0       CONFIRMED              0              0              0              0   \n",
       "1  FALSE POSITIVE              0              1              0              0   \n",
       "2  FALSE POSITIVE              0              1              0              0   \n",
       "3       CONFIRMED              0              0              0              0   \n",
       "4       CONFIRMED              0              0              0              0   \n",
       "\n",
       "   koi_period  koi_period_err1  koi_period_err2  koi_time0bk  \\\n",
       "0   54.418383     2.479000e-04    -2.479000e-04   162.513840   \n",
       "1   19.899140     1.490000e-05    -1.490000e-05   175.850252   \n",
       "2    1.736952     2.630000e-07    -2.630000e-07   170.307565   \n",
       "3    2.525592     3.760000e-06    -3.760000e-06   171.595550   \n",
       "4    4.134435     1.050000e-05    -1.050000e-05   172.979370   \n",
       "\n",
       "   koi_time0bk_err1  ...  koi_steff_err2  koi_slogg  koi_slogg_err1  \\\n",
       "0          0.003520  ...             -81      4.467           0.064   \n",
       "1          0.000581  ...            -176      4.544           0.044   \n",
       "2          0.000115  ...            -174      4.564           0.053   \n",
       "3          0.001130  ...            -211      4.438           0.070   \n",
       "4          0.001900  ...            -232      4.486           0.054   \n",
       "\n",
       "   koi_slogg_err2  koi_srad  koi_srad_err1  koi_srad_err2         ra  \\\n",
       "0          -0.096     0.927          0.105         -0.061  291.93423   \n",
       "1          -0.176     0.868          0.233         -0.078  297.00482   \n",
       "2          -0.168     0.791          0.201         -0.067  285.53461   \n",
       "3          -0.210     1.046          0.334         -0.133  288.75488   \n",
       "4          -0.229     0.972          0.315         -0.105  296.28613   \n",
       "\n",
       "         dec  koi_kepmag  \n",
       "0  48.141651      15.347  \n",
       "1  48.134129      15.436  \n",
       "2  48.285210      15.597  \n",
       "3  48.226200      15.509  \n",
       "4  48.224670      15.714  \n",
       "\n",
       "[5 rows x 41 columns]"
      ]
     },
     "execution_count": 2,
     "metadata": {},
     "output_type": "execute_result"
    }
   ],
   "source": [
    "df = pd.read_csv(\"data/exoplanet_data.csv\")\n",
    "# Drop the null columns where all values are null\n",
    "df = df.dropna(axis='columns', how='all')\n",
    "# Drop the null rows\n",
    "df = df.dropna()\n",
    "df.head()"
   ]
  },
  {
   "cell_type": "markdown",
   "metadata": {},
   "source": [
    "# Select your features (columns)"
   ]
  },
  {
   "cell_type": "code",
   "execution_count": 3,
   "metadata": {},
   "outputs": [],
   "source": [
    "feature_sel_df = df.drop(columns=[\"koi_disposition\"])"
   ]
  },
  {
   "cell_type": "code",
   "execution_count": 4,
   "metadata": {},
   "outputs": [],
   "source": [
    "def variance_threshold_selector(data, threshold):\n",
    "    selector = VarianceThreshold(threshold)\n",
    "    selector.fit(data)\n",
    "    return data[data.columns[selector.get_support(indices=True)]]\n",
    "\n",
    "#list(variance_threshold_selector(feature_sel_df, 0.5).columns)"
   ]
  },
  {
   "cell_type": "code",
   "execution_count": 5,
   "metadata": {},
   "outputs": [
    {
     "data": {
      "text/plain": [
       "['koi_period',\n",
       " 'koi_time0bk',\n",
       " 'koi_impact',\n",
       " 'koi_impact_err1',\n",
       " 'koi_impact_err2',\n",
       " 'koi_duration',\n",
       " 'koi_depth',\n",
       " 'koi_depth_err1',\n",
       " 'koi_depth_err2',\n",
       " 'koi_prad',\n",
       " 'koi_prad_err1',\n",
       " 'koi_prad_err2',\n",
       " 'koi_teq',\n",
       " 'koi_insol',\n",
       " 'koi_insol_err1',\n",
       " 'koi_insol_err2',\n",
       " 'koi_model_snr',\n",
       " 'koi_steff',\n",
       " 'koi_steff_err1',\n",
       " 'koi_steff_err2',\n",
       " 'koi_srad',\n",
       " 'koi_srad_err2',\n",
       " 'ra',\n",
       " 'dec',\n",
       " 'koi_kepmag']"
      ]
     },
     "execution_count": 5,
     "metadata": {},
     "output_type": "execute_result"
    }
   ],
   "source": [
    "list(variance_threshold_selector(feature_sel_df, 0.8).columns)"
   ]
  },
  {
   "cell_type": "code",
   "execution_count": null,
   "metadata": {},
   "outputs": [],
   "source": [
    "#list(variance_threshold_selector(feature_sel_df, 0.9).columns)"
   ]
  },
  {
   "cell_type": "code",
   "execution_count": 6,
   "metadata": {},
   "outputs": [],
   "source": [
    "# Set features. This will also be used as your x values.\n",
    "selected_features = df[['koi_period',\n",
    " 'koi_time0bk',\n",
    " 'koi_impact',\n",
    " 'koi_impact_err1',\n",
    " 'koi_impact_err2',\n",
    " 'koi_duration',\n",
    " 'koi_depth',\n",
    " 'koi_depth_err1',\n",
    " 'koi_depth_err2',\n",
    " 'koi_prad',\n",
    " 'koi_prad_err1',\n",
    " 'koi_prad_err2',\n",
    " 'koi_teq',\n",
    " 'koi_insol',\n",
    " 'koi_insol_err1',\n",
    " 'koi_insol_err2',\n",
    " 'koi_model_snr',\n",
    " 'koi_steff',\n",
    " 'koi_steff_err1',\n",
    " 'koi_steff_err2',\n",
    " 'koi_srad',\n",
    " 'koi_srad_err2',\n",
    " 'ra',\n",
    " 'dec',\n",
    " 'koi_kepmag']]"
   ]
  },
  {
   "cell_type": "markdown",
   "metadata": {},
   "source": [
    "# Create a Train Test Split\n",
    "\n",
    "Use `koi_disposition` for the y values"
   ]
  },
  {
   "cell_type": "code",
   "execution_count": 7,
   "metadata": {},
   "outputs": [],
   "source": [
    "y = df[\"koi_disposition\"] "
   ]
  },
  {
   "cell_type": "code",
   "execution_count": 8,
   "metadata": {},
   "outputs": [],
   "source": [
    "X_train, X_test, y_train, y_test = tts(selected_features, y, random_state=17)"
   ]
  },
  {
   "cell_type": "code",
   "execution_count": 9,
   "metadata": {},
   "outputs": [
    {
     "data": {
      "text/html": [
       "<div>\n",
       "<style scoped>\n",
       "    .dataframe tbody tr th:only-of-type {\n",
       "        vertical-align: middle;\n",
       "    }\n",
       "\n",
       "    .dataframe tbody tr th {\n",
       "        vertical-align: top;\n",
       "    }\n",
       "\n",
       "    .dataframe thead th {\n",
       "        text-align: right;\n",
       "    }\n",
       "</style>\n",
       "<table border=\"1\" class=\"dataframe\">\n",
       "  <thead>\n",
       "    <tr style=\"text-align: right;\">\n",
       "      <th></th>\n",
       "      <th>koi_period</th>\n",
       "      <th>koi_time0bk</th>\n",
       "      <th>koi_impact</th>\n",
       "      <th>koi_impact_err1</th>\n",
       "      <th>koi_impact_err2</th>\n",
       "      <th>koi_duration</th>\n",
       "      <th>koi_depth</th>\n",
       "      <th>koi_depth_err1</th>\n",
       "      <th>koi_depth_err2</th>\n",
       "      <th>koi_prad</th>\n",
       "      <th>...</th>\n",
       "      <th>koi_insol_err2</th>\n",
       "      <th>koi_model_snr</th>\n",
       "      <th>koi_steff</th>\n",
       "      <th>koi_steff_err1</th>\n",
       "      <th>koi_steff_err2</th>\n",
       "      <th>koi_srad</th>\n",
       "      <th>koi_srad_err2</th>\n",
       "      <th>ra</th>\n",
       "      <th>dec</th>\n",
       "      <th>koi_kepmag</th>\n",
       "    </tr>\n",
       "  </thead>\n",
       "  <tbody>\n",
       "    <tr>\n",
       "      <th>2684</th>\n",
       "      <td>6.790121</td>\n",
       "      <td>138.088199</td>\n",
       "      <td>0.486</td>\n",
       "      <td>0.051</td>\n",
       "      <td>-0.095</td>\n",
       "      <td>6.04370</td>\n",
       "      <td>2302.3</td>\n",
       "      <td>5.7</td>\n",
       "      <td>-5.7</td>\n",
       "      <td>9.86</td>\n",
       "      <td>...</td>\n",
       "      <td>-122.30</td>\n",
       "      <td>526.1</td>\n",
       "      <td>6372</td>\n",
       "      <td>76</td>\n",
       "      <td>-89</td>\n",
       "      <td>2.001</td>\n",
       "      <td>-0.073</td>\n",
       "      <td>287.70883</td>\n",
       "      <td>47.333050</td>\n",
       "      <td>12.128</td>\n",
       "    </tr>\n",
       "    <tr>\n",
       "      <th>2307</th>\n",
       "      <td>14.034903</td>\n",
       "      <td>171.604910</td>\n",
       "      <td>0.660</td>\n",
       "      <td>0.037</td>\n",
       "      <td>-0.486</td>\n",
       "      <td>3.63800</td>\n",
       "      <td>851.8</td>\n",
       "      <td>15.9</td>\n",
       "      <td>-15.9</td>\n",
       "      <td>2.41</td>\n",
       "      <td>...</td>\n",
       "      <td>-11.97</td>\n",
       "      <td>60.9</td>\n",
       "      <td>5258</td>\n",
       "      <td>158</td>\n",
       "      <td>-142</td>\n",
       "      <td>0.785</td>\n",
       "      <td>-0.091</td>\n",
       "      <td>298.38483</td>\n",
       "      <td>46.276039</td>\n",
       "      <td>14.574</td>\n",
       "    </tr>\n",
       "    <tr>\n",
       "      <th>6452</th>\n",
       "      <td>9.524077</td>\n",
       "      <td>134.803805</td>\n",
       "      <td>0.313</td>\n",
       "      <td>0.005</td>\n",
       "      <td>-0.002</td>\n",
       "      <td>10.48910</td>\n",
       "      <td>198400.0</td>\n",
       "      <td>129.0</td>\n",
       "      <td>-129.0</td>\n",
       "      <td>151.00</td>\n",
       "      <td>...</td>\n",
       "      <td>-309.18</td>\n",
       "      <td>1942.5</td>\n",
       "      <td>5180</td>\n",
       "      <td>62</td>\n",
       "      <td>-72</td>\n",
       "      <td>3.371</td>\n",
       "      <td>-0.577</td>\n",
       "      <td>288.91531</td>\n",
       "      <td>39.804981</td>\n",
       "      <td>15.145</td>\n",
       "    </tr>\n",
       "    <tr>\n",
       "      <th>5361</th>\n",
       "      <td>8.467706</td>\n",
       "      <td>139.412302</td>\n",
       "      <td>1.054</td>\n",
       "      <td>0.016</td>\n",
       "      <td>-0.016</td>\n",
       "      <td>4.05376</td>\n",
       "      <td>77324.0</td>\n",
       "      <td>75.4</td>\n",
       "      <td>-75.4</td>\n",
       "      <td>43.98</td>\n",
       "      <td>...</td>\n",
       "      <td>-32.73</td>\n",
       "      <td>976.0</td>\n",
       "      <td>5873</td>\n",
       "      <td>146</td>\n",
       "      <td>-161</td>\n",
       "      <td>0.843</td>\n",
       "      <td>-0.083</td>\n",
       "      <td>287.12943</td>\n",
       "      <td>43.344131</td>\n",
       "      <td>14.408</td>\n",
       "    </tr>\n",
       "    <tr>\n",
       "      <th>5152</th>\n",
       "      <td>11.867172</td>\n",
       "      <td>142.985000</td>\n",
       "      <td>0.001</td>\n",
       "      <td>0.447</td>\n",
       "      <td>-0.001</td>\n",
       "      <td>4.81500</td>\n",
       "      <td>595.6</td>\n",
       "      <td>48.5</td>\n",
       "      <td>-48.5</td>\n",
       "      <td>4.03</td>\n",
       "      <td>...</td>\n",
       "      <td>-164.58</td>\n",
       "      <td>13.4</td>\n",
       "      <td>6264</td>\n",
       "      <td>177</td>\n",
       "      <td>-265</td>\n",
       "      <td>1.651</td>\n",
       "      <td>-0.451</td>\n",
       "      <td>294.55789</td>\n",
       "      <td>40.850498</td>\n",
       "      <td>14.624</td>\n",
       "    </tr>\n",
       "  </tbody>\n",
       "</table>\n",
       "<p>5 rows × 25 columns</p>\n",
       "</div>"
      ],
      "text/plain": [
       "      koi_period  koi_time0bk  koi_impact  koi_impact_err1  koi_impact_err2  \\\n",
       "2684    6.790121   138.088199       0.486            0.051           -0.095   \n",
       "2307   14.034903   171.604910       0.660            0.037           -0.486   \n",
       "6452    9.524077   134.803805       0.313            0.005           -0.002   \n",
       "5361    8.467706   139.412302       1.054            0.016           -0.016   \n",
       "5152   11.867172   142.985000       0.001            0.447           -0.001   \n",
       "\n",
       "      koi_duration  koi_depth  koi_depth_err1  koi_depth_err2  koi_prad  ...  \\\n",
       "2684       6.04370     2302.3             5.7            -5.7      9.86  ...   \n",
       "2307       3.63800      851.8            15.9           -15.9      2.41  ...   \n",
       "6452      10.48910   198400.0           129.0          -129.0    151.00  ...   \n",
       "5361       4.05376    77324.0            75.4           -75.4     43.98  ...   \n",
       "5152       4.81500      595.6            48.5           -48.5      4.03  ...   \n",
       "\n",
       "      koi_insol_err2  koi_model_snr  koi_steff  koi_steff_err1  \\\n",
       "2684         -122.30          526.1       6372              76   \n",
       "2307          -11.97           60.9       5258             158   \n",
       "6452         -309.18         1942.5       5180              62   \n",
       "5361          -32.73          976.0       5873             146   \n",
       "5152         -164.58           13.4       6264             177   \n",
       "\n",
       "      koi_steff_err2  koi_srad  koi_srad_err2         ra        dec  \\\n",
       "2684             -89     2.001         -0.073  287.70883  47.333050   \n",
       "2307            -142     0.785         -0.091  298.38483  46.276039   \n",
       "6452             -72     3.371         -0.577  288.91531  39.804981   \n",
       "5361            -161     0.843         -0.083  287.12943  43.344131   \n",
       "5152            -265     1.651         -0.451  294.55789  40.850498   \n",
       "\n",
       "      koi_kepmag  \n",
       "2684      12.128  \n",
       "2307      14.574  \n",
       "6452      15.145  \n",
       "5361      14.408  \n",
       "5152      14.624  \n",
       "\n",
       "[5 rows x 25 columns]"
      ]
     },
     "execution_count": 9,
     "metadata": {},
     "output_type": "execute_result"
    }
   ],
   "source": [
    "X_train.head()"
   ]
  },
  {
   "cell_type": "markdown",
   "metadata": {},
   "source": [
    "# Pre-processing\n",
    "\n",
    "Scale the data using the MinMaxScaler and perform some feature selection"
   ]
  },
  {
   "cell_type": "code",
   "execution_count": 10,
   "metadata": {},
   "outputs": [],
   "source": [
    "# Scale your data\n",
    "X_scaler =  MinMaxScaler().fit(X_train)\n",
    "X_train_scaled = X_scaler.transform(X_train)\n",
    "X_test_scaled = X_scaler.transform(X_test)\n",
    "\n",
    "# Label-encode data set\n",
    "label_encoder = LabelEncoder()\n",
    "label_encoder.fit(y_train)\n",
    "encoded_y_train = label_encoder.transform(y_train)\n",
    "encoded_y_test = label_encoder.transform(y_test)"
   ]
  },
  {
   "cell_type": "markdown",
   "metadata": {},
   "source": [
    "# Train the Model\n",
    "\n"
   ]
  },
  {
   "cell_type": "code",
   "execution_count": 11,
   "metadata": {},
   "outputs": [
    {
     "name": "stdout",
     "output_type": "stream",
     "text": [
      "k: 1, Train/Test Score: 1.000/0.596\n",
      "k: 3, Train/Test Score: 0.787/0.609\n",
      "k: 5, Train/Test Score: 0.731/0.610\n",
      "k: 7, Train/Test Score: 0.718/0.592\n",
      "k: 9, Train/Test Score: 0.705/0.604\n",
      "k: 11, Train/Test Score: 0.701/0.608\n",
      "k: 13, Train/Test Score: 0.691/0.617\n",
      "k: 15, Train/Test Score: 0.688/0.613\n",
      "k: 17, Train/Test Score: 0.682/0.613\n",
      "k: 19, Train/Test Score: 0.676/0.619\n"
     ]
    },
    {
     "data": {
      "image/png": "[encoded data removed]",
      "text/plain": [
       "<Figure size 432x288 with 1 Axes>"
      ]
     },
     "metadata": {
      "needs_background": "light"
     },
     "output_type": "display_data"
    }
   ],
   "source": [
    "# Loop through different k values to see which has the highest accuracy\n",
    "# Note: We only use odd numbers because we don't want any ties\n",
    "knn_train_scores = []\n",
    "knn_test_scores = []\n",
    "for k in range(1, 20, 2):\n",
    "    knn = KNeighborsClassifier(n_neighbors=k)\n",
    "    knn.fit(X_train_scaled, encoded_y_train)\n",
    "    train_score = knn.score(X_train_scaled, encoded_y_train)\n",
    "    test_score = knn.score(X_test_scaled, encoded_y_test)\n",
    "    knn_train_scores.append(train_score)\n",
    "    knn_test_scores.append(test_score)\n",
    "    print(f\"k: {k}, Train/Test Score: {train_score:.3f}/{test_score:.3f}\")\n",
    "    \n",
    "    \n",
    "plt.plot(range(1, 20, 2), knn_train_scores, marker='o')\n",
    "plt.plot(range(1, 20, 2), knn_test_scores, marker=\"x\")\n",
    "plt.xlabel(\"k neighbors\")\n",
    "plt.ylabel(\"Testing accuracy Score\")\n",
    "plt.show()"
   ]
  },
  {
   "cell_type": "code",
   "execution_count": 12,
   "metadata": {},
   "outputs": [
    {
     "name": "stdout",
     "output_type": "stream",
     "text": [
      "k=13 Test Acc: 0.617\n"
     ]
    }
   ],
   "source": [
    "knn = KNeighborsClassifier(n_neighbors=13)\n",
    "knn.fit(X_train_scaled, encoded_y_train)\n",
    "print('k=13 Test Acc: %.3f' % knn.score(X_test_scaled, encoded_y_test))"
   ]
  },
  {
   "cell_type": "markdown",
   "metadata": {},
   "source": [
    "# Hyperparameter Tuning\n",
    "\n",
    "Use `GridSearchCV` to tune the model's parameters"
   ]
  },
  {
   "cell_type": "code",
   "execution_count": 13,
   "metadata": {},
   "outputs": [],
   "source": [
    "# Create the GridSearchCV model\n",
    "param_grid = {\"n_neighbors\": [1,3,5,7,9,11,13,15,17,19],\n",
    "             \"weights\":[\"uniform\", \"distance\"]}\n",
    "grid = GridSearchCV(KNeighborsClassifier(), param_grid, verbose=3, cv=3)"
   ]
  },
  {
   "cell_type": "code",
   "execution_count": 14,
   "metadata": {
    "collapsed": true,
    "jupyter": {
     "outputs_hidden": true
    }
   },
   "outputs": [
    {
     "name": "stdout",
     "output_type": "stream",
     "text": [
      "Fitting 3 folds for each of 20 candidates, totalling 60 fits\n",
      "[CV] n_neighbors=1, weights=uniform ..................................\n"
     ]
    },
    {
     "name": "stderr",
     "output_type": "stream",
     "text": [
      "[Parallel(n_jobs=1)]: Using backend SequentialBackend with 1 concurrent workers.\n"
     ]
    },
    {
     "name": "stdout",
     "output_type": "stream",
     "text": [
      "[CV] ...... n_neighbors=1, weights=uniform, score=0.574, total=   0.4s\n",
      "[CV] n_neighbors=1, weights=uniform ..................................\n"
     ]
    },
    {
     "name": "stderr",
     "output_type": "stream",
     "text": [
      "[Parallel(n_jobs=1)]: Done   1 out of   1 | elapsed:    0.3s remaining:    0.0s\n"
     ]
    },
    {
     "name": "stdout",
     "output_type": "stream",
     "text": [
      "[CV] ...... n_neighbors=1, weights=uniform, score=0.593, total=   0.4s\n",
      "[CV] n_neighbors=1, weights=uniform ..................................\n"
     ]
    },
    {
     "name": "stderr",
     "output_type": "stream",
     "text": [
      "[Parallel(n_jobs=1)]: Done   2 out of   2 | elapsed:    0.6s remaining:    0.0s\n"
     ]
    },
    {
     "name": "stdout",
     "output_type": "stream",
     "text": [
      "[CV] ...... n_neighbors=1, weights=uniform, score=0.591, total=   0.4s\n",
      "[CV] n_neighbors=1, weights=distance .................................\n",
      "[CV] ..... n_neighbors=1, weights=distance, score=0.574, total=   0.3s\n",
      "[CV] n_neighbors=1, weights=distance .................................\n",
      "[CV] ..... n_neighbors=1, weights=distance, score=0.593, total=   0.3s\n",
      "[CV] n_neighbors=1, weights=distance .................................\n",
      "[CV] ..... n_neighbors=1, weights=distance, score=0.591, total=   0.3s\n",
      "[CV] n_neighbors=3, weights=uniform ..................................\n",
      "[CV] ...... n_neighbors=3, weights=uniform, score=0.591, total=   0.5s\n",
      "[CV] n_neighbors=3, weights=uniform ..................................\n",
      "[CV] ...... n_neighbors=3, weights=uniform, score=0.602, total=   0.4s\n",
      "[CV] n_neighbors=3, weights=uniform ..................................\n",
      "[CV] ...... n_neighbors=3, weights=uniform, score=0.578, total=   0.4s\n",
      "[CV] n_neighbors=3, weights=distance .................................\n",
      "[CV] ..... n_neighbors=3, weights=distance, score=0.603, total=   0.4s\n",
      "[CV] n_neighbors=3, weights=distance .................................\n",
      "[CV] ..... n_neighbors=3, weights=distance, score=0.617, total=   0.3s\n",
      "[CV] n_neighbors=3, weights=distance .................................\n",
      "[CV] ..... n_neighbors=3, weights=distance, score=0.592, total=   0.3s\n",
      "[CV] n_neighbors=5, weights=uniform ..................................\n",
      "[CV] ...... n_neighbors=5, weights=uniform, score=0.585, total=   0.5s\n",
      "[CV] n_neighbors=5, weights=uniform ..................................\n",
      "[CV] ...... n_neighbors=5, weights=uniform, score=0.602, total=   0.4s\n",
      "[CV] n_neighbors=5, weights=uniform ..................................\n",
      "[CV] ...... n_neighbors=5, weights=uniform, score=0.596, total=   0.4s\n",
      "[CV] n_neighbors=5, weights=distance .................................\n",
      "[CV] ..... n_neighbors=5, weights=distance, score=0.610, total=   0.4s\n",
      "[CV] n_neighbors=5, weights=distance .................................\n",
      "[CV] ..... n_neighbors=5, weights=distance, score=0.620, total=   0.3s\n",
      "[CV] n_neighbors=5, weights=distance .................................\n",
      "[CV] ..... n_neighbors=5, weights=distance, score=0.610, total=   0.4s\n",
      "[CV] n_neighbors=7, weights=uniform ..................................\n",
      "[CV] ...... n_neighbors=7, weights=uniform, score=0.602, total=   0.5s\n",
      "[CV] n_neighbors=7, weights=uniform ..................................\n",
      "[CV] ...... n_neighbors=7, weights=uniform, score=0.610, total=   0.4s\n",
      "[CV] n_neighbors=7, weights=uniform ..................................\n",
      "[CV] ...... n_neighbors=7, weights=uniform, score=0.608, total=   0.4s\n",
      "[CV] n_neighbors=7, weights=distance .................................\n",
      "[CV] ..... n_neighbors=7, weights=distance, score=0.621, total=   0.4s\n",
      "[CV] n_neighbors=7, weights=distance .................................\n",
      "[CV] ..... n_neighbors=7, weights=distance, score=0.627, total=   0.3s\n",
      "[CV] n_neighbors=7, weights=distance .................................\n",
      "[CV] ..... n_neighbors=7, weights=distance, score=0.624, total=   0.4s\n",
      "[CV] n_neighbors=9, weights=uniform ..................................\n",
      "[CV] ...... n_neighbors=9, weights=uniform, score=0.615, total=   0.5s\n",
      "[CV] n_neighbors=9, weights=uniform ..................................\n",
      "[CV] ...... n_neighbors=9, weights=uniform, score=0.625, total=   0.4s\n",
      "[CV] n_neighbors=9, weights=uniform ..................................\n",
      "[CV] ...... n_neighbors=9, weights=uniform, score=0.614, total=   0.5s\n",
      "[CV] n_neighbors=9, weights=distance .................................\n",
      "[CV] ..... n_neighbors=9, weights=distance, score=0.635, total=   0.4s\n",
      "[CV] n_neighbors=9, weights=distance .................................\n",
      "[CV] ..... n_neighbors=9, weights=distance, score=0.634, total=   0.3s\n",
      "[CV] n_neighbors=9, weights=distance .................................\n",
      "[CV] ..... n_neighbors=9, weights=distance, score=0.624, total=   0.4s\n",
      "[CV] n_neighbors=11, weights=uniform .................................\n",
      "[CV] ..... n_neighbors=11, weights=uniform, score=0.614, total=   0.5s\n",
      "[CV] n_neighbors=11, weights=uniform .................................\n",
      "[CV] ..... n_neighbors=11, weights=uniform, score=0.625, total=   0.5s\n",
      "[CV] n_neighbors=11, weights=uniform .................................\n",
      "[CV] ..... n_neighbors=11, weights=uniform, score=0.616, total=   0.5s\n",
      "[CV] n_neighbors=11, weights=distance ................................\n",
      "[CV] .... n_neighbors=11, weights=distance, score=0.637, total=   0.4s\n",
      "[CV] n_neighbors=11, weights=distance ................................\n",
      "[CV] .... n_neighbors=11, weights=distance, score=0.634, total=   0.4s\n",
      "[CV] n_neighbors=11, weights=distance ................................\n",
      "[CV] .... n_neighbors=11, weights=distance, score=0.629, total=   0.4s\n",
      "[CV] n_neighbors=13, weights=uniform .................................\n",
      "[CV] ..... n_neighbors=13, weights=uniform, score=0.616, total=   0.5s\n",
      "[CV] n_neighbors=13, weights=uniform .................................\n",
      "[CV] ..... n_neighbors=13, weights=uniform, score=0.618, total=   0.4s\n",
      "[CV] n_neighbors=13, weights=uniform .................................\n",
      "[CV] ..... n_neighbors=13, weights=uniform, score=0.620, total=   0.5s\n",
      "[CV] n_neighbors=13, weights=distance ................................\n",
      "[CV] .... n_neighbors=13, weights=distance, score=0.634, total=   0.4s\n",
      "[CV] n_neighbors=13, weights=distance ................................\n",
      "[CV] .... n_neighbors=13, weights=distance, score=0.636, total=   0.4s\n",
      "[CV] n_neighbors=13, weights=distance ................................\n",
      "[CV] .... n_neighbors=13, weights=distance, score=0.627, total=   0.4s\n",
      "[CV] n_neighbors=15, weights=uniform .................................\n",
      "[CV] ..... n_neighbors=15, weights=uniform, score=0.614, total=   0.5s\n",
      "[CV] n_neighbors=15, weights=uniform .................................\n",
      "[CV] ..... n_neighbors=15, weights=uniform, score=0.619, total=   0.4s\n",
      "[CV] n_neighbors=15, weights=uniform .................................\n",
      "[CV] ..... n_neighbors=15, weights=uniform, score=0.613, total=   0.5s\n",
      "[CV] n_neighbors=15, weights=distance ................................\n",
      "[CV] .... n_neighbors=15, weights=distance, score=0.634, total=   0.4s\n",
      "[CV] n_neighbors=15, weights=distance ................................\n",
      "[CV] .... n_neighbors=15, weights=distance, score=0.629, total=   0.4s\n",
      "[CV] n_neighbors=15, weights=distance ................................\n",
      "[CV] .... n_neighbors=15, weights=distance, score=0.626, total=   0.4s\n",
      "[CV] n_neighbors=17, weights=uniform .................................\n",
      "[CV] ..... n_neighbors=17, weights=uniform, score=0.610, total=   0.5s\n",
      "[CV] n_neighbors=17, weights=uniform .................................\n",
      "[CV] ..... n_neighbors=17, weights=uniform, score=0.620, total=   0.4s\n",
      "[CV] n_neighbors=17, weights=uniform .................................\n",
      "[CV] ..... n_neighbors=17, weights=uniform, score=0.620, total=   0.5s\n",
      "[CV] n_neighbors=17, weights=distance ................................\n",
      "[CV] .... n_neighbors=17, weights=distance, score=0.628, total=   0.4s\n",
      "[CV] n_neighbors=17, weights=distance ................................\n",
      "[CV] .... n_neighbors=17, weights=distance, score=0.637, total=   0.4s\n",
      "[CV] n_neighbors=17, weights=distance ................................\n",
      "[CV] .... n_neighbors=17, weights=distance, score=0.629, total=   0.4s\n",
      "[CV] n_neighbors=19, weights=uniform .................................\n",
      "[CV] ..... n_neighbors=19, weights=uniform, score=0.597, total=   0.5s\n",
      "[CV] n_neighbors=19, weights=uniform .................................\n",
      "[CV] ..... n_neighbors=19, weights=uniform, score=0.628, total=   0.5s\n",
      "[CV] n_neighbors=19, weights=uniform .................................\n",
      "[CV] ..... n_neighbors=19, weights=uniform, score=0.609, total=   0.5s\n",
      "[CV] n_neighbors=19, weights=distance ................................\n",
      "[CV] .... n_neighbors=19, weights=distance, score=0.622, total=   0.4s\n",
      "[CV] n_neighbors=19, weights=distance ................................\n",
      "[CV] .... n_neighbors=19, weights=distance, score=0.641, total=   0.4s\n",
      "[CV] n_neighbors=19, weights=distance ................................\n",
      "[CV] .... n_neighbors=19, weights=distance, score=0.627, total=   0.4s\n"
     ]
    },
    {
     "name": "stderr",
     "output_type": "stream",
     "text": [
      "[Parallel(n_jobs=1)]: Done  60 out of  60 | elapsed:   25.1s finished\n"
     ]
    },
    {
     "data": {
      "text/plain": [
       "GridSearchCV(cv=3, error_score=nan,\n",
       "             estimator=KNeighborsClassifier(algorithm='auto', leaf_size=30,\n",
       "                                            metric='minkowski',\n",
       "                                            metric_params=None, n_jobs=None,\n",
       "                                            n_neighbors=5, p=2,\n",
       "                                            weights='uniform'),\n",
       "             iid='deprecated', n_jobs=None,\n",
       "             param_grid={'n_neighbors': [1, 3, 5, 7, 9, 11, 13, 15, 17, 19],\n",
       "                         'weights': ['uniform', 'distance']},\n",
       "             pre_dispatch='2*n_jobs', refit=True, return_train_score=False,\n",
       "             scoring=None, verbose=3)"
      ]
     },
     "execution_count": 14,
     "metadata": {},
     "output_type": "execute_result"
    }
   ],
   "source": [
    "# Train the model with GridSearch\n",
    "grid.fit(X_train_scaled, encoded_y_train)"
   ]
  },
  {
   "cell_type": "code",
   "execution_count": 15,
   "metadata": {},
   "outputs": [
    {
     "name": "stdout",
     "output_type": "stream",
     "text": [
      "{'n_neighbors': 11, 'weights': 'distance'}\n",
      "0.63341504691272\n"
     ]
    }
   ],
   "source": [
    "print(grid.best_params_)\n",
    "print(grid.best_score_)"
   ]
  },
  {
   "cell_type": "code",
   "execution_count": 16,
   "metadata": {},
   "outputs": [],
   "source": [
    "knn_model = KNeighborsClassifier(n_neighbors=11, weights=\"distance\")"
   ]
  },
  {
   "cell_type": "markdown",
   "metadata": {},
   "source": [
    "# Save the Model"
   ]
  },
  {
   "cell_type": "code",
   "execution_count": 17,
   "metadata": {},
   "outputs": [
    {
     "data": {
      "text/plain": [
       "['alissa_vee_knn.sav']"
      ]
     },
     "execution_count": 17,
     "metadata": {},
     "output_type": "execute_result"
    }
   ],
   "source": [
    "# save the model\n",
    "# and \"your_model\" with your model variable\n",
    "filename = 'alissa_vee_knn.sav'\n",
    "joblib.dump(knn_model, filename)"
   ]
  },
  {
   "cell_type": "code",
   "execution_count": null,
   "metadata": {},
   "outputs": [],
   "source": []
  }
 ],
 "metadata": {
  "kernel_info": {
   "name": "dev"
  },
  "kernelspec": {
   "display_name": "Python 3",
   "language": "python",
   "name": "python3"
  },
  "language_info": {
   "codemirror_mode": {
    "name": "ipython",
    "version": 3
   },
   "file_extension": ".py",
   "mimetype": "text/x-python",
   "name": "python",
   "nbconvert_exporter": "python",
   "pygments_lexer": "ipython3",
   "version": "3.7.6"
  },
  "nteract": {
   "version": "0.12.3"
  }
 },
 "nbformat": 4,
 "nbformat_minor": 4
}
